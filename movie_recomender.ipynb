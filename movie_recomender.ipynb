{
 "cells": [
  {
   "cell_type": "code",
   "execution_count": 5,
   "metadata": {},
   "outputs": [],
   "source": [
    "import numpy as np\n",
    "from lightfm.datasets import fetch_movielens\n",
    "from lightfm import LightFM"
   ]
  },
  {
   "cell_type": "code",
   "execution_count": 6,
   "metadata": {},
   "outputs": [
    {
     "name": "stdout",
     "output_type": "stream",
     "text": [
      "<943x1682 sparse matrix of type '<class 'numpy.int32'>'\n",
      "\twith 49906 stored elements in COOrdinate format>\n",
      "<943x1682 sparse matrix of type '<class 'numpy.int32'>'\n",
      "\twith 5469 stored elements in COOrdinate format>\n"
     ]
    },
    {
     "data": {
      "text/plain": [
       "<lightfm.lightfm.LightFM at 0x7f977cfb65c0>"
      ]
     },
     "execution_count": 6,
     "metadata": {},
     "output_type": "execute_result"
    }
   ],
   "source": [
    "#print(data)\n",
    "data = fetch_movielens(min_rating=4.0)\n",
    "#myData={train:[],test:[],item_features:[],item_feature_labels:[],item_labels:[]}\n",
    "print(repr(data['train']))\n",
    "print(repr(data['test']))\n",
    "#print(data['train'])\n",
    "model = LightFM(loss='warp')\n",
    "\n",
    "model.fit(data['test'], epochs=60, num_threads=2)"
   ]
  },
  {
   "cell_type": "code",
   "execution_count": 7,
   "metadata": {},
   "outputs": [],
   "source": [
    "def recommendations(model ,data, user_ids):\n",
    "    n_users, n_items = data['train'].shape\n",
    "    \n",
    "    for user_id in user_ids:\n",
    "        known_positives = data['item_labels'][data['train'].tocsr()[user_id].indices]\n",
    "        scores = model.predict(user_id, np.arange(n_items))\n",
    "        top_items= data['item_labels'][np.argsort(-scores)]\n",
    "        \n",
    "        print(\"user\"+ str(user_id))\n",
    "        print(\"Known positives:\")\n",
    "        \n",
    "        for x in known_positives[:3]:\n",
    "            print(\"   \"+x)\n",
    "            \n",
    "        print(\"recomended:\")\n",
    "        for x in top_items[:3]:\n",
    "            print(\"   \"+x)\n",
    "        print(\"\\n\\n\\n\")\n",
    "        \n",
    "def recommendMe(model ,data, user_ids):\n",
    "    known_positives = data['item_labels'][data['train'].tocsr()[user_id].indices]\n",
    "    scores = model.predict(user_id, np.arange(n_items))\n",
    "    top_items= data['item_labels'][np.argsort(-scores)]\n",
    "\n",
    "    print(\"user\"+ str(user_id))\n",
    "    print(\"Known positives:\")\n",
    "\n",
    "    for x in known_positives[:3]:\n",
    "        print(\"   \"+x)\n",
    "\n",
    "    print(\"recomended:\")\n",
    "    for x in top_items[:3]:\n",
    "        print(\"   \"+x)\n",
    "    print(\"\\n\\n\\n\")"
   ]
  },
  {
   "cell_type": "code",
   "execution_count": 8,
   "metadata": {},
   "outputs": [
    {
     "name": "stdout",
     "output_type": "stream",
     "text": [
      "user889\n",
      "Known positives:\n",
      "   Toy Story (1995)\n",
      "   Twelve Monkeys (1995)\n",
      "   Taxi Driver (1976)\n",
      "recomended:\n",
      "   Return of the Jedi (1983)\n",
      "   Silence of the Lambs, The (1991)\n",
      "   Raiders of the Lost Ark (1981)\n",
      "\n",
      "\n",
      "\n",
      "\n",
      "user1\n",
      "Known positives:\n",
      "   Toy Story (1995)\n",
      "   Postino, Il (1994)\n",
      "   Birdcage, The (1996)\n",
      "recomended:\n",
      "   Toy Story (1995)\n",
      "   Scream (1996)\n",
      "   Chasing Amy (1997)\n",
      "\n",
      "\n",
      "\n",
      "\n",
      "user460\n",
      "Known positives:\n",
      "   Dead Man Walking (1995)\n",
      "   Contact (1997)\n",
      "   Secrets & Lies (1996)\n",
      "recomended:\n",
      "   Titanic (1997)\n",
      "   Full Monty, The (1997)\n",
      "   Fargo (1996)\n",
      "\n",
      "\n",
      "\n",
      "\n"
     ]
    }
   ],
   "source": [
    "\n",
    "recommendations(model ,data,[889,1,460])\n",
    "#print(type(data))\n",
    "#for key, value in data.items():\n",
    "#    print(key)\n",
    "#    print(type(value))\n",
    "#    print(value)\n",
    "    \n",
    "#to fix ponyakoga preporuchva veche gledani filmi examp user 1\n",
    "#add fiture recomend movies you like\n",
    "# mess around with threads and aother paramrthers"
   ]
  },
  {
   "cell_type": "code",
   "execution_count": null,
   "metadata": {},
   "outputs": [],
   "source": []
  }
 ],
 "metadata": {
  "kernelspec": {
   "display_name": "Python 3",
   "language": "python",
   "name": "python3"
  },
  "language_info": {
   "codemirror_mode": {
    "name": "ipython",
    "version": 3
   },
   "file_extension": ".py",
   "mimetype": "text/x-python",
   "name": "python",
   "nbconvert_exporter": "python",
   "pygments_lexer": "ipython3",
   "version": "3.7.3"
  }
 },
 "nbformat": 4,
 "nbformat_minor": 2
}
