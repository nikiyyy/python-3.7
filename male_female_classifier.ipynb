{
 "cells": [
  {
   "cell_type": "code",
   "execution_count": 9,
   "metadata": {},
   "outputs": [],
   "source": [
    "#data - weight, height, hair lenght,voice pitch\n",
    "import random\n",
    "    \n",
    "#generate data\n",
    "def genirate(broi=50):\n",
    "    data=[]\n",
    "\n",
    "    for i in range(0,broi):\n",
    "        # if for female\n",
    "        if random.randint(1,7)%2==0:\n",
    "            #wierdo factor generira edna nenormalna stoinost\n",
    "            #wierdo factor 1/25 fatter than arg. new range 80-100\n",
    "            weight= random.randint(50,80)\n",
    "            if random.randint(1,26)==25:\n",
    "                weight= random.randint(80,100)\n",
    "\n",
    "            #wierdo factor 1/20 taller than avr. new range 170-190\n",
    "            height = random.randint(150,170)\n",
    "            if random.randint(1,21)==20:\n",
    "                height = random.randint(170,190)\n",
    "\n",
    "            #wierdo factor 1/10 hair longer than chin 10-20\n",
    "            hair_lenght= random.randint(20,60)\n",
    "            if random.randint(1,11)==10:\n",
    "                hair_lenght= random.randint(10,20)\n",
    "\n",
    "            voice_pitch=random.randint(120,280)\n",
    "            gender='F'\n",
    "\n",
    "        # else for male\n",
    "        else:\n",
    "            #wierdo factor 1/20 fatter than arg. new range 95-120\n",
    "            weight= random.randint(60,95)\n",
    "            if random.randint(1,21)==20:\n",
    "                weight= random.randint(95,120)\n",
    "\n",
    "            #wierdo factor 1/25 taller than avr. new range 185-200\n",
    "            height= random.randint(165,185)\n",
    "            if random.randint(1,26)==25:\n",
    "                height= random.randint(185,200)\n",
    "\n",
    "            #wierdo factor 1/10 hair longer than chin 20-25\n",
    "            hair_lenght= random.randint(0,20)\n",
    "            if random.randint(1,11)==10:\n",
    "                hair_lenght= random.randint(20,25)\n",
    "\n",
    "            voice_pitch=random.randint(60,260)\n",
    "            gender='M'\n",
    "\n",
    "        data.append([weight,height,hair_lenght,voice_pitch,gender])\n",
    "    return data\n",
    "    \n",
    "#splitting the data\n",
    "all_data=genirate(100)\n",
    "data_train=[]\n",
    "answer_train=[]\n",
    "for i in all_data:\n",
    "    data_train.append(i[0:4])\n",
    "    answer_train.append(i[-1])"
   ]
  },
  {
   "cell_type": "code",
   "execution_count": 10,
   "metadata": {},
   "outputs": [
    {
     "data": {
      "text/plain": [
       "SVC(C=1.0, cache_size=200, class_weight=None, coef0=0.0,\n",
       "    decision_function_shape='ovr', degree=3, gamma=1000, kernel='linear',\n",
       "    max_iter=-1, probability=False, random_state=None, shrinking=True,\n",
       "    tol=0.001, verbose=False)"
      ]
     },
     "execution_count": 10,
     "metadata": {},
     "output_type": "execute_result"
    }
   ],
   "source": [
    "#decision tree\n",
    "from sklearn import tree\n",
    "clfTR = tree.DecisionTreeClassifier(min_samples_split=5)\n",
    "clfTR.fit(data_train,answer_train)\n",
    "\n",
    "#GaussianNB\n",
    "from sklearn.naive_bayes import GaussianNB\n",
    "clfGB = GaussianNB()\n",
    "clfGB.fit(data_train, answer_train)\n",
    "\n",
    "#suppoty vector machine\n",
    "from sklearn import svm\n",
    "clfSVM = svm.SVC(kernel='linear',gamma=1000) \n",
    "clfSVM.fit(data_train, answer_train)  \n",
    "\n"
   ]
  },
  {
   "cell_type": "code",
   "execution_count": 17,
   "metadata": {},
   "outputs": [
    {
     "name": "stdout",
     "output_type": "stream",
     "text": [
      "decission tree accuracy score - 0.93%\n",
      "GaussianNB accuracy score - 0.95%\n",
      "SVM accuracy score - 0.96%\n"
     ]
    }
   ],
   "source": [
    "\n",
    "all_data_predict=genirate(100)\n",
    "data_predict=[]\n",
    "answer_predict=[]\n",
    "for i in all_data_predict:\n",
    "    data_predict.append(i[0:4])\n",
    "    answer_predict.append(i[-1])\n",
    "predictTR = clfTR.predict(data_predict)\n",
    "predictGB = clfGB.predict(data_predict)\n",
    "predictCVM = clfSVM.predict(data_predict)\n",
    "from sklearn.metrics import accuracy_score\n",
    "\n",
    "score_TR = accuracy_score(answer_predict, predictTR)\n",
    "score_GB = accuracy_score(answer_predict, predictGB)\n",
    "score_SVM = accuracy_score(answer_predict, predictCVM)\n",
    "print(\"decission tree accuracy score - \" + str(score_TR)+\"%\" )\n",
    "print(\"GaussianNB accuracy score - \"+ str(score_GB)+\"%\" )\n",
    "print(\"SVM accuracy score - \"+ str(score_SVM)+\"%\" )\n",
    "\n",
    "#conclussion: GaussianNB is the best for this type of classification\n",
    "#SVM kernel ranked form best to worst - linear, poly, rbf/sigmoid\n",
    "#naj-veroqtno SVM se predstavq tolkova slabo, zashtoto ima mnogo noise(overlaping)"
   ]
  },
  {
   "cell_type": "code",
   "execution_count": null,
   "metadata": {},
   "outputs": [],
   "source": []
  },
  {
   "cell_type": "code",
   "execution_count": null,
   "metadata": {},
   "outputs": [],
   "source": []
  }
 ],
 "metadata": {
  "kernelspec": {
   "display_name": "Python 3",
   "language": "python",
   "name": "python3"
  },
  "language_info": {
   "codemirror_mode": {
    "name": "ipython",
    "version": 3
   },
   "file_extension": ".py",
   "mimetype": "text/x-python",
   "name": "python",
   "nbconvert_exporter": "python",
   "pygments_lexer": "ipython3",
   "version": "3.7.3"
  }
 },
 "nbformat": 4,
 "nbformat_minor": 2
}
